{
 "cells": [
  {
   "cell_type": "code",
   "execution_count": 2,
   "id": "14361bda-8643-42fd-a913-fea83dfba80c",
   "metadata": {},
   "outputs": [
    {
     "data": {
      "text/plain": [
       "{'status': 'success'}"
      ]
     },
     "execution_count": 2,
     "metadata": {},
     "output_type": "execute_result"
    }
   ],
   "source": [
    "ollama.pull('llama3.1')"
   ]
  },
  {
   "cell_type": "code",
   "execution_count": 1,
   "id": "657ae425-0cea-4d28-8748-3edeb438d965",
   "metadata": {},
   "outputs": [],
   "source": [
    "import pandas as pd\n",
    "import ollama\n",
    "import re"
   ]
  },
  {
   "cell_type": "code",
   "execution_count": 3,
   "id": "b9f087c5-9665-441d-accb-8b6e954b5c41",
   "metadata": {},
   "outputs": [],
   "source": [
    "#pip install ollama"
   ]
  },
  {
   "cell_type": "code",
   "execution_count": 15,
   "id": "14420299-3b99-448f-b5a0-087bef933aad",
   "metadata": {},
   "outputs": [
    {
     "data": {
      "text/html": [
       "<div>\n",
       "<style scoped>\n",
       "    .dataframe tbody tr th:only-of-type {\n",
       "        vertical-align: middle;\n",
       "    }\n",
       "\n",
       "    .dataframe tbody tr th {\n",
       "        vertical-align: top;\n",
       "    }\n",
       "\n",
       "    .dataframe thead th {\n",
       "        text-align: right;\n",
       "    }\n",
       "</style>\n",
       "<table border=\"1\" class=\"dataframe\">\n",
       "  <thead>\n",
       "    <tr style=\"text-align: right;\">\n",
       "      <th></th>\n",
       "      <th>keyword</th>\n",
       "      <th>totalcount</th>\n",
       "    </tr>\n",
       "  </thead>\n",
       "  <tbody>\n",
       "    <tr>\n",
       "      <th>0</th>\n",
       "      <td>adventskalender</td>\n",
       "      <td>514036</td>\n",
       "    </tr>\n",
       "    <tr>\n",
       "      <th>1</th>\n",
       "      <td>Adventskalender</td>\n",
       "      <td>156879</td>\n",
       "    </tr>\n",
       "    <tr>\n",
       "      <th>2</th>\n",
       "      <td>adventskalender fÃ¼r frauen</td>\n",
       "      <td>140504</td>\n",
       "    </tr>\n",
       "    <tr>\n",
       "      <th>3</th>\n",
       "      <td>charlotte tilbury</td>\n",
       "      <td>134658</td>\n",
       "    </tr>\n",
       "    <tr>\n",
       "      <th>4</th>\n",
       "      <td>sol de janeiro</td>\n",
       "      <td>101680</td>\n",
       "    </tr>\n",
       "  </tbody>\n",
       "</table>\n",
       "</div>"
      ],
      "text/plain": [
       "                       keyword  totalcount\n",
       "0              adventskalender      514036\n",
       "1              Adventskalender      156879\n",
       "2  adventskalender fÃ¼r frauen      140504\n",
       "3            charlotte tilbury      134658\n",
       "4               sol de janeiro      101680"
      ]
     },
     "execution_count": 15,
     "metadata": {},
     "output_type": "execute_result"
    }
   ],
   "source": [
    "df1= pd.read_excel(r'/data/keywords092024.xlsx')\n",
    "df1.head()"
   ]
  },
  {
   "cell_type": "code",
   "execution_count": 17,
   "id": "27c1cc5f-ca80-4b65-96fa-e7d88870c37e",
   "metadata": {},
   "outputs": [],
   "source": [
    "df1 = df1.dropna(subset=['keyword'])"
   ]
  },
  {
   "cell_type": "code",
   "execution_count": 18,
   "id": "be64d75d-99b8-4f08-8097-e69f8c836b98",
   "metadata": {},
   "outputs": [],
   "source": [
    "def classify_keyword(keyword):\n",
    "    content = f'Classify the following Keyword: {keyword} into the appropriate category, provide the output in the following format:Category: [Category]. Categories are Skincare, Haircare, Hair Color, Eye Makeup, Lip Makeup, Face Makeup, Nails, Body, Women Fragrances, Men-/Unisex Fragrances, Beauty Tools&Devices, Accessories, Wellness&Supplements, Offers&Promotions, Other'\n",
    "    response = ollama.chat(model='llama3.1', messages=[\n",
    "        {\n",
    "            'role': 'user',\n",
    "            'content': content,\n",
    "        },\n",
    "    ])\n",
    "    return response['message']['content']\n",
    "\n"
   ]
  },
  {
   "cell_type": "code",
   "execution_count": 20,
   "id": "57dfa6c4-4d86-4d40-93a1-a2da5e6a8ed3",
   "metadata": {},
   "outputs": [],
   "source": [
    "#categories = []\n",
    "#d2 = pd.DataFrame(columns=['category'])"
   ]
  },
  {
   "cell_type": "code",
   "execution_count": 21,
   "id": "764fd7b6-9af8-4073-a4ac-80af6dd10aad",
   "metadata": {},
   "outputs": [],
   "source": [
    "# Function to parse the output from ollama chat\n",
    "def parse_category(response):\n",
    "    match = re.search(r'Category:\\s*(.*?)\\s*$', response, re.IGNORECASE) # regex to extract the keyword and category\n",
    "    if match:\n",
    "        return match.group(1).strip()\n",
    "    else:\n",
    "        return None"
   ]
  },
  {
   "cell_type": "code",
   "execution_count": 22,
   "id": "9a22c014-3267-4bb0-86e3-d7b3e89e7d0a",
   "metadata": {},
   "outputs": [],
   "source": [
    "for index, row in df1.iterrows():\n",
    "    try:\n",
    "        response = classify_keyword(row['keyword'])\n",
    "        category = parse_category(response)\n",
    "        categories.append(category)  # Append the parsed category\n",
    "    except Exception as e:\n",
    "        print(f\"Error processing keyword '{row['keyword']}': {e}\")\n",
    "        categories.append(None)  # Preserve list length with None"
   ]
  },
  {
   "cell_type": "code",
   "execution_count": 23,
   "id": "4b348bfe-16e0-4c61-bbe7-c7548495b452",
   "metadata": {},
   "outputs": [
    {
     "name": "stdout",
     "output_type": "stream",
     "text": [
      "Original DataFrame length: 200\n",
      "Categories list length: 200\n"
     ]
    }
   ],
   "source": [
    "print(f\"Original DataFrame length: {len(df1)}\")\n",
    "print(f\"Categories list length: {len(categories)}\")"
   ]
  },
  {
   "cell_type": "code",
   "execution_count": 24,
   "id": "f64489ec-c222-4ec0-9830-cdee6e3a70d9",
   "metadata": {},
   "outputs": [],
   "source": [
    "if len(categories) == len(df1):\n",
    "   df1['category'] = categories\n",
    "else:\n",
    "    raise ValueError(\"Mismatch in lengths!\")\n"
   ]
  },
  {
   "cell_type": "code",
   "execution_count": 25,
   "id": "55c4c042-106b-466e-bf6b-0c0d64124c45",
   "metadata": {},
   "outputs": [
    {
     "data": {
      "text/html": [
       "<div>\n",
       "<style scoped>\n",
       "    .dataframe tbody tr th:only-of-type {\n",
       "        vertical-align: middle;\n",
       "    }\n",
       "\n",
       "    .dataframe tbody tr th {\n",
       "        vertical-align: top;\n",
       "    }\n",
       "\n",
       "    .dataframe thead th {\n",
       "        text-align: right;\n",
       "    }\n",
       "</style>\n",
       "<table border=\"1\" class=\"dataframe\">\n",
       "  <thead>\n",
       "    <tr style=\"text-align: right;\">\n",
       "      <th></th>\n",
       "      <th>keyword</th>\n",
       "      <th>totalcount</th>\n",
       "      <th>category</th>\n",
       "    </tr>\n",
       "  </thead>\n",
       "  <tbody>\n",
       "    <tr>\n",
       "      <th>0</th>\n",
       "      <td>adventskalender</td>\n",
       "      <td>514036</td>\n",
       "      <td>Other.</td>\n",
       "    </tr>\n",
       "    <tr>\n",
       "      <th>1</th>\n",
       "      <td>Adventskalender</td>\n",
       "      <td>156879</td>\n",
       "      <td>None</td>\n",
       "    </tr>\n",
       "    <tr>\n",
       "      <th>2</th>\n",
       "      <td>adventskalender fÃ¼r frauen</td>\n",
       "      <td>140504</td>\n",
       "      <td>None</td>\n",
       "    </tr>\n",
       "    <tr>\n",
       "      <th>3</th>\n",
       "      <td>charlotte tilbury</td>\n",
       "      <td>134658</td>\n",
       "      <td>None</td>\n",
       "    </tr>\n",
       "    <tr>\n",
       "      <th>4</th>\n",
       "      <td>sol de janeiro</td>\n",
       "      <td>101680</td>\n",
       "      <td>Women Fragrances</td>\n",
       "    </tr>\n",
       "  </tbody>\n",
       "</table>\n",
       "</div>"
      ],
      "text/plain": [
       "                       keyword  totalcount          category\n",
       "0              adventskalender      514036            Other.\n",
       "1              Adventskalender      156879              None\n",
       "2  adventskalender fÃ¼r frauen      140504              None\n",
       "3            charlotte tilbury      134658              None\n",
       "4               sol de janeiro      101680  Women Fragrances"
      ]
     },
     "execution_count": 25,
     "metadata": {},
     "output_type": "execute_result"
    }
   ],
   "source": [
    "df1.head()"
   ]
  },
  {
   "cell_type": "code",
   "execution_count": null,
   "id": "53ae2113-f7ba-4401-bd75-5fe159272f52",
   "metadata": {},
   "outputs": [],
   "source": []
  },
  {
   "cell_type": "code",
   "execution_count": null,
   "id": "8e5fbe4a-1cfd-4eb8-98ec-80d02539b182",
   "metadata": {},
   "outputs": [],
   "source": []
  }
 ],
 "metadata": {
  "kernelspec": {
   "display_name": "Python 3 (ipykernel)",
   "language": "python",
   "name": "python3"
  },
  "language_info": {
   "codemirror_mode": {
    "name": "ipython",
    "version": 3
   },
   "file_extension": ".py",
   "mimetype": "text/x-python",
   "name": "python",
   "nbconvert_exporter": "python",
   "pygments_lexer": "ipython3",
   "version": "3.11.7"
  }
 },
 "nbformat": 4,
 "nbformat_minor": 5
}
